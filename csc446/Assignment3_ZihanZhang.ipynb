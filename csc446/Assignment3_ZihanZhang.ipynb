{
  "metadata": {
    "colab": {
      "provenance": []
    },
    "kernelspec": {
      "name": "python",
      "display_name": "Python (Pyodide)",
      "language": "python"
    },
    "language_info": {
      "codemirror_mode": {
        "name": "python",
        "version": 3
      },
      "file_extension": ".py",
      "mimetype": "text/x-python",
      "name": "python",
      "nbconvert_exporter": "python",
      "pygments_lexer": "ipython3",
      "version": "3.8"
    }
  },
  "nbformat_minor": 5,
  "nbformat": 4,
  "cells": [
    {
      "cell_type": "markdown",
      "source": "# Problem 1: (50% for CSC 446, 50% for CSC 546)\n\nTo ensure that you read and fully understand the template source code for discrete-event simulation of single-queue-single-server systerm, translate the sample Jave code posted in Brightspace--Content--Weeks 2,3 to Python. **Note that you are not allowed to use existing python function to generate exponential or normal variates.**\n\nUsing the given default parameters given in the sample code, generate 400 customers, and record their arrival times, departure times, service times, and waiting times in the queue in the following format:\n\n| Customer #  | Arrival Time      |  Departure Time | Service Time for the Customer| The Customer's Waiting Time in the Queue|\n|:---------------------:|:------------:|:-------------|:----------:|:-----|\n\n\n\n\n",
      "metadata": {
        "id": "fba57ed2"
      },
      "id": "fba57ed2"
    },
    {
      "cell_type": "code",
      "source": "''' Write your Python source code is below\n'''\nimport random\nimport math\nclass Event:\n    def __init__ (self,a_type,a_time):\n        self._type = a_type\n        self.time = a_time\n        self.leftlink = None\n        self.rightlink = None\n        self.uplink = None\n        \n    def get_type(self):\n        return self._type\n    def get_time(self):\n        return self.time\n    def __lt__(self, other):\n        return self.time < other.get_time()\n\n    def __eq__(self, other):\n        return self.time == other.get_time()\n\n    def __gt__(self, other):\n        return self.time > other.get_time()\n    # def compareTo(self,other):\n    #     if self.time<other.get_time():\n    #         return -1\n    #     elif self.time == other.get_time():\n    #         return 0\n    #     else:\n    #         return 1\n\n# splay tree from :https://github.com/anoopj/pysplay/blob/master/splay.py\n\nclass Node:\n    def __init__(self, key):\n        self.key = key\n        self.left = self.right = None\n\n    def equals(self, node):\n        return self.key == node.key\n\nclass SplayTree:\n    def __init__(self):\n        self.root = None\n        self.header = Node(None) #For splay()\n\n    def insert(self, key):\n        if (self.root == None):\n            self.root = Node(key)\n            return\n\n        self.splay(key)\n        if self.root.key == key:\n            # If the key is already there in the tree, don't do anything.\n            return\n\n        n = Node(key)\n        if key < self.root.key:\n            n.left = self.root.left\n            n.right = self.root\n            self.root.left = None\n        else:\n            n.right = self.root.right\n            n.left = self.root\n            self.root.right = None\n        self.root = n\n\n    def remove(self, key):\n        self.splay(key)\n        if key != self.root.key:\n            raise 'key not found in tree'\n\n        # Now delete the root.\n        if self.root.left== None:\n            self.root = self.root.right\n        else:\n            x = self.root.right\n            self.root = self.root.left\n            self.splay(key)\n            self.root.right = x\n\n    def findMin(self):\n        if self.root == None:\n            return None\n        x = self.root\n        while x.left != None:\n            x = x.left\n        self.splay(x.key)\n        return x.key\n\n    def findMax(self):\n        if self.root == None:\n            return None\n        x = self.root\n        while (x.right != None):\n            x = x.right\n        self.splay(x.key)\n        return x.key\n\n    def find(self, key):\n        if self.root == None:\n            return None\n        self.splay(key)\n        if self.root.key != key:\n            return None\n        return self.root.key\n\n    def isEmpty(self):\n        return self.root == None\n    \n    def splay(self, key):\n        l = r = self.header\n        t = self.root\n        self.header.left = self.header.right = None\n        while True:\n            if key < t.key:\n                if t.left == None:\n                    break\n                if key < t.left.key:\n                    y = t.left\n                    t.left = y.right\n                    y.right = t\n                    t = y\n                    if t.left == None:\n                        break\n                r.left = t\n                r = t\n                t = t.left\n            elif key > t.key:\n                if t.right == None:\n                    break\n                if key > t.right.key:\n                    y = t.right\n                    t.right = y.left\n                    y.left = t\n                    t = y\n                    if t.right == None:\n                        break\n                l.right = t\n                l = t\n                t = t.right\n            else:\n                break\n        l.right = t.left\n        r.left = t.right\n        t.left = self.header.right\n        t.right = self.header.left\n        self.root = t\n\n\nrandom.seed(10) \ncustomer_size = 400\nMeanIAT = 4.5  \nMeanST = 3.2\nsigma = 0.6\nPI = 3.1415927\n\narrival = 1 \ndeparture = 2\n\nclock = 0.0\nnum_in_service = 0\nqueue_len = 0\nmax_queue_len = 0\ntotal_busy = 0\nlast_event_time = 0\n\nsum_response_time = 0\nnum_depart = 0\nlong_service = 0\n\nnum_normals = 0\nsave_normal = 0\nevent_list = SplayTree()\ncust_list = []\ncustomer = [i for i in range(customer_size)]\narrival_time = []\nservice_time = []\ndepart_time = []\n\ndef generate_exp(MeanIAT):\n    u = random.random()\n    exponential_variate = - MeanIAT *  math.log(u)\n    return exponential_variate\n\ndef normal(MeanST, sigma):\n    global num_normals,save_normal\n    \n    if num_normals == 0:\n        r1 = random.random()\n        r2 = random.random()\n\n        return_normal = math.sqrt(-2 * math.log(r1)) * math.cos(2 * PI * r2)\n        save_normal = math.sqrt(-2 * math.log(r1)) * math.sin(2 * PI * r2)\n        num_normals = 1\n    else:\n        num_normals = 0\n        return_normal = save_normal\n\n    return return_normal * sigma + MeanST\n\nevent = Event(arrival, generate_exp(MeanIAT))\nevent_list.insert(event)\narrival_time.append(event.time)\n\ndef process_arrival(event):\n    global queue_len,total_busy,last_event_time,max_queue_len\n    queue_len += 1\n    cust_list.append(event)\n    if num_in_service == 0:\n        schedule_departure()\n    else:\n        total_busy += (clock - last_event_time)\n    if max_queue_len < queue_len:\n        max_queue_len = queue_len\n    \n    next_arrival = Event(arrival,clock + generate_exp(MeanIAT))\n    arrival_time.append(next_arrival.time)\n    event_list.insert(next_arrival)\n    last_event_time = clock\n\ndef schedule_departure():\n    global queue_len, num_in_service\n    ServiceTime = 0\n    while ServiceTime<=0:\n        ServiceTime = normal(MeanST, sigma)\n    service_time.append(ServiceTime)\n    \n    num_in_service = 1\n    queue_len -= 1\n    depart = Event(departure,clock+ServiceTime)\n    event_list.insert(depart)\n    depart_time.append(depart.time)\n    \n\ndef process_depart(event):\n    global total_busy,queue_len,num_depart,num_in_service,clock,last_event_time,sum_response_time,long_service\n\n    departure = cust_list.pop()\n    if queue_len > 0:\n        schedule_departure()        \n    else:\n        num_in_service = 0\n\n    response = clock - departure.time\n    sum_response_time += response\n    long_service+= response > 4.0\n\n    total_busy += clock - last_event_time\n    num_depart += 1\n    last_event_time = clock\n\n\nwhile num_depart < customer_size:\n    event = event_list.findMin()\n    event_list.remove(event)\n    clock = event.time\n    process_arrival(event) if event.get_type() == arrival else process_depart(event)\n\nprint(\"SINGLE SERVER QUEUE SIMULATION - GROCERY STORE CHECKOUT COUNTER \")\nprint(\"MEAN INTERARRIVAL TIME                         \",MeanIAT)\nprint( \"MEAN SERVICE TIME                              \",MeanST )\nprint( \"STANDARD DEVIATION OF SERVICE TIMES            \",sigma )\nprint (\"NUMBER OF CUSTOMERS SERVED                     \",customer_size)\nprint( \"SERVER UTILIZATION                             \",total_busy/clock )\nprint( \"MAXIMUM LINE LENGTH                            \",max_queue_len )\nprint( \"AVERAGE RESPONSE TIME                          \",sum_response_time/customer_size,\"  MINUTES\" )\nprint( \"PROPORTION WHO SPEND FOUR \")\nprint( \"MINUTES OR MORE IN SYSTEM                     \",long_service/customer_size)\nprint( \"SIMULATION RUNLENGTH                           \",clock,\" MINUTES\" )\nprint( \"NUMBER OF DEPARTURES                           \",customer_size )\n\ncustomer = [i for i in range(1,customer_size+1)]\n\nTime_Service_Begin = [0 for i in range(customer_size)]\nTime_Customer_Waiting_in_Queue = [0 for i in range(customer_size)]\nTime_Service_Ends = [0 for i in range(customer_size)]\nTime_Customer_Spend_in_System = [0 for i in range(customer_size)]\nSystem_idle = [0 for i in range(customer_size)]\n\nTime_Service_Begin[0] = arrival_time[0]\nTime_Service_Ends[0] = service_time[0]\nTime_Customer_Spend_in_System[0] = service_time[0]\nTime_Service_Ends[0] = Time_Service_Begin[0] + service_time[0]\n\nfor i in range(1,customer_size):\n  # Time Service Begin \n  Time_Service_Begin[i] = max(arrival_time[i],Time_Service_Ends[i-1])\n    \n  # Time customer waiting in queue   \n  Time_Customer_Waiting_in_Queue[i] = Time_Service_Begin[i]-arrival_time[i]\n\n  # Time service ends\n  Time_Service_Ends[i] = Time_Service_Begin[i] + service_time[i]  \n\n  # Time Customer Spend in the system\n  Time_Customer_Spend_in_System[i] = Time_Service_Ends[i] - arrival_time[i]\n    \n\nfrom prettytable import PrettyTable\nwhile(len(arrival_time)>customer_size):\n  arrival_time.pop(-1)\nwhile(len(service_time)>customer_size):\n  service_time.pop(-1)\nx = PrettyTable()\n\ncolumn_names =['Customer #','Arrival Time','Departure Time','Service Time for the Customer','The Customer\\'s Waiting Time in the Queue']\ndata = [customer,arrival_time,Time_Service_Ends,service_time,Time_Customer_Waiting_in_Queue]\nlength = len(column_names)\n\nfor i in range(length):\n  x.add_column(column_names[i],data[i])\n  \nprint(x)\n\n\n",
      "metadata": {
        "trusted": true
      },
      "execution_count": 34,
      "outputs": [
        {
          "name": "stdout",
          "text": "SINGLE SERVER QUEUE SIMULATION - GROCERY STORE CHECKOUT COUNTER \nMEAN INTERARRIVAL TIME                          4.5\nMEAN SERVICE TIME                               3.2\nSTANDARD DEVIATION OF SERVICE TIMES             0.6\nNUMBER OF CUSTOMERS SERVED                      400\nSERVER UTILIZATION                              0.729932262635987\nMAXIMUM LINE LENGTH                             11\nAVERAGE RESPONSE TIME                           8.9847122287616   MINUTES\nPROPORTION WHO SPEND FOUR \nMINUTES OR MORE IN SYSTEM                      0.345\nSIMULATION RUNLENGTH                            1739.1476878041162  MINUTES\nNUMBER OF DEPARTURES                            400\n",
          "output_type": "stream"
        },
        {
          "ename": "<class 'ModuleNotFoundError'>",
          "evalue": "No module named 'prettytable'",
          "traceback": [
            "\u001b[0;31m---------------------------------------------------------------------------\u001b[0m",
            "\u001b[0;31mModuleNotFoundError\u001b[0m                       Traceback (most recent call last)",
            "Cell \u001b[0;32mIn[34], line 301\u001b[0m\n\u001b[1;32m    297\u001b[0m   \u001b[38;5;66;03m# Time Customer Spend in the system\u001b[39;00m\n\u001b[1;32m    298\u001b[0m   Time_Customer_Spend_in_System[i] \u001b[38;5;241m=\u001b[39m Time_Service_Ends[i] \u001b[38;5;241m-\u001b[39m arrival_time[i]\n\u001b[0;32m--> 301\u001b[0m \u001b[38;5;28;01mfrom\u001b[39;00m \u001b[38;5;21;01mprettytable\u001b[39;00m \u001b[38;5;28;01mimport\u001b[39;00m PrettyTable\n\u001b[1;32m    302\u001b[0m \u001b[38;5;28;01mwhile\u001b[39;00m(\u001b[38;5;28mlen\u001b[39m(arrival_time)\u001b[38;5;241m>\u001b[39mcustomer_size):\n\u001b[1;32m    303\u001b[0m   arrival_time\u001b[38;5;241m.\u001b[39mpop(\u001b[38;5;241m-\u001b[39m\u001b[38;5;241m1\u001b[39m)\n",
            "\u001b[0;31mModuleNotFoundError\u001b[0m: No module named 'prettytable'"
          ],
          "output_type": "error"
        }
      ],
      "id": "fb80c62e"
    },
    {
      "cell_type": "markdown",
      "source": "# End of Problem 1",
      "metadata": {},
      "id": "e8e49114"
    },
    {
      "cell_type": "markdown",
      "source": "# Problem 2 (50% for CSC 446, 25% for CSC 546)\n\n1. Apply the Chi-square test to the recorded 400 customers in Problem 1 to test the hypothesis that the customer arrival\nprocess follows a Poisson process, using the level of significance α = 0.05. \n\nAns: The customer arrival process follows a Poisson process since the value of p is greater than 0.05.\n\n2. Apply the Chi-square test to the recorded 400 customers in Problem 1 to test the hypothesis that the customer depature\nprocess follows a Poisson process, using the level of significance α = 0.05. \n\nAns: The customer depature process does not follow a Poisson process, since the value of p is less than 0.05.\n\n3. What is your conclusion after the statistical test?\n\nAns: Since the service time follows a normal distribution, The customer depature process does not follow a Poisson process; However, the customer arrival process follows a Poisson process.\n\n**Hint: You can use inter-arrival times test for Poisson process: You can examine the inter-arrival times between successive events and check if they follow an exponential distribution. If the inter-arrival times follow an exponential distribution, then the arrival process can be considered a Poisson process.**\n\n\n# End of Problem 2\n",
      "metadata": {
        "id": "e20440a1"
      },
      "id": "e20440a1"
    },
    {
      "cell_type": "code",
      "source": "#2-a\nimport scipy.stats as stats \nimport numpy as np\nimport math\n\nk = int(math.sqrt(customer_size))\np = 1/k\n_lambda = 1/MeanIAT \n\n\nIAT = [0 for i in range (customer_size)]\nIAT[0] = arrival_time[0]\nfor i in range(1,customer_size):\n    IAT[i] = arrival_time[i] - IAT[i - 1]\n    \nendpoints = [(-1 / _lambda) * math.log(1 - i * p) for i in range(k)]\nobserved = np.histogram(IAT, bins=endpoints + [np.inf])[0]\nexpected = np.full(k, customer_size / k)\n\nchi2_stat, p_value = stats.chisquare(observed, f_exp=expected)\n\nprint(\"Expected counts:\", expected)\nprint(\"Observed counts:\", observed)\nprint(\"Chi-square statistic:\", chi2_stat)\nprint(\"p-value:\", p_value)\n",
      "metadata": {
        "trusted": true
      },
      "execution_count": 25,
      "outputs": [
        {
          "ename": "<class 'IndexError'>",
          "evalue": "list index out of range",
          "traceback": [
            "\u001b[0;31m---------------------------------------------------------------------------\u001b[0m",
            "\u001b[0;31mIndexError\u001b[0m                                Traceback (most recent call last)",
            "Cell \u001b[0;32mIn[25], line 12\u001b[0m\n\u001b[1;32m      8\u001b[0m _lambda \u001b[38;5;241m=\u001b[39m \u001b[38;5;241m1\u001b[39m\u001b[38;5;241m/\u001b[39mMeanIAT \n\u001b[1;32m     11\u001b[0m IAT \u001b[38;5;241m=\u001b[39m [\u001b[38;5;241m0\u001b[39m \u001b[38;5;28;01mfor\u001b[39;00m i \u001b[38;5;129;01min\u001b[39;00m \u001b[38;5;28mrange\u001b[39m (customer_size)]\n\u001b[0;32m---> 12\u001b[0m IAT[\u001b[38;5;241m0\u001b[39m] \u001b[38;5;241m=\u001b[39m \u001b[43marrival_time\u001b[49m\u001b[43m[\u001b[49m\u001b[38;5;241;43m0\u001b[39;49m\u001b[43m]\u001b[49m\n\u001b[1;32m     13\u001b[0m \u001b[38;5;28;01mfor\u001b[39;00m i \u001b[38;5;129;01min\u001b[39;00m \u001b[38;5;28mrange\u001b[39m(\u001b[38;5;241m1\u001b[39m,customer_size):\n\u001b[1;32m     14\u001b[0m     IAT[i] \u001b[38;5;241m=\u001b[39m arrival_time[i] \u001b[38;5;241m-\u001b[39m IAT[i \u001b[38;5;241m-\u001b[39m \u001b[38;5;241m1\u001b[39m]\n",
            "\u001b[0;31mIndexError\u001b[0m: list index out of range"
          ],
          "output_type": "error"
        }
      ],
      "id": "371a9a64"
    },
    {
      "cell_type": "code",
      "source": "#2-b\nimport math\nimport scipy.stats as stats\nimport numpy as np\n\nMeanInterdepartureTime = 0\ncustomer_size = len(Time_Service_Ends)\ninter_departure_time = [Time_Service_Ends[0]] + [Time_Service_Ends[i] - Time_Service_Ends[i - 1] for i in range(1, customer_size)]\n\nfor i in range(1,customer_size):\n    MeanInterdepartureTime += inter_departure_time[i]\n\nMeanInterdepartureTime = MeanInterdepartureTime/len(inter_departure_time)\n\nk = int(math.sqrt(TotalCustomers))\np = 1 / k\nlam = 1 / 4.5\n\nendpoints = [(-1 / lam) * math.log(1 - i * p) for i in range(k)]\nobserved = np.histogram(inter_departure_time, bins=endpoints + [np.inf])[0]\nexpected = np.full(k, TotalCustomers / k)\n\nchi2_stat, p_value = stats.chisquare(observed, f_exp=expected)\n\nprint(\"Chi-square statistic:\", chi2_stat)\nprint(\"p-value:\", p_value)\n",
      "metadata": {
        "trusted": true
      },
      "execution_count": 24,
      "outputs": [
        {
          "name": "stdout",
          "text": "0.0\nChi-square statistic: 7600.0\np-value: 0.0\n",
          "output_type": "stream"
        }
      ],
      "id": "f9311514"
    },
    {
      "cell_type": "markdown",
      "source": "# Problem 3 (CSC 546 only, 25% for CSC 546)\n\nChange the service times to exponentially distributed with mean value of 3.2. Run your simulation to generate 400 customers, and and record their arrival times, departure times, service times, and waiting times using the same format as in Problem 1.\n\n\n1. Apply the Chi-square test to the recorded customers to test the hypothesis that the customer arrival\nprocess follows a Poisson process, using the level of significance α = 0.05. \n\nAns: Write your answer here. \n\n2. Apply the Chi-square test to the recorded customers to test the hypothesis that the customer depature\nprocess follows a Poisson process, using the level of significance α = 0.05. \n\nAns: Write your answer here. \n\n\n3. What is your conclusion after the statistical test?\n\nAns: Write your answer here. \n**Hint: You can use inter-arrival times test for Poisson process: You can examine the inter-arrival times between successive events and check if they follow an exponential distribution. If the inter-arrival times follow an exponential distribution, then the arrival process can be considered a Poisson process.**\n\n# End of Problem 3\n",
      "metadata": {
        "id": "0b5e07b1"
      },
      "id": "0b5e07b1"
    },
    {
      "cell_type": "code",
      "source": "",
      "metadata": {},
      "execution_count": null,
      "outputs": [],
      "id": "9d294c39"
    },
    {
      "cell_type": "code",
      "source": "",
      "metadata": {},
      "execution_count": null,
      "outputs": [],
      "id": "4164d81f"
    }
  ]
}