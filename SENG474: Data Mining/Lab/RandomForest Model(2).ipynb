{
 "cells": [
  {
   "attachments": {},
   "cell_type": "markdown",
   "id": "97597fe9",
   "metadata": {},
   "source": [
    "Name：Chuhao Luo\n",
    "\n",
    "Student ID: v00987151"
   ]
  },
  {
   "cell_type": "code",
   "execution_count": 137,
   "id": "4462c42e",
   "metadata": {},
   "outputs": [],
   "source": [
    "import numpy as np\n",
    "import pandas as pd\n",
    "import random\n",
    "from tensorflow import keras\n",
    "from keras.datasets import fashion_mnist\n",
    "import os\n",
    "import cv2\n",
    "import matplotlib.pyplot as plt\n",
    "from sklearn.svm import SVC\n",
    "from sklearn.decomposition import PCA\n",
    "from sklearn.model_selection import train_test_split\n",
    "from sklearn.multiclass import OneVsOneClassifier\n",
    "from sklearn.metrics import confusion_matrix,accuracy_score,ConfusionMatrixDisplay,classification_report,mean_squared_error\n",
    "from sklearn.preprocessing import StandardScaler\n",
    "from sklearn.model_selection import GridSearchCV\n",
    "import seaborn as sns\n",
    "from sklearn.tree import DecisionTreeClassifier\n",
    "from sklearn.metrics import accuracy_score\n",
    "from sklearn.ensemble import RandomForestClassifier"
   ]
  },
  {
   "attachments": {},
   "cell_type": "markdown",
   "id": "4317bb0e",
   "metadata": {},
   "source": [
    "# Preprocess the dataset"
   ]
  },
  {
   "cell_type": "code",
   "execution_count": 138,
   "id": "6b49c5db",
   "metadata": {},
   "outputs": [
    {
     "data": {
      "text/html": [
       "<div>\n",
       "<style scoped>\n",
       "    .dataframe tbody tr th:only-of-type {\n",
       "        vertical-align: middle;\n",
       "    }\n",
       "\n",
       "    .dataframe tbody tr th {\n",
       "        vertical-align: top;\n",
       "    }\n",
       "\n",
       "    .dataframe thead th {\n",
       "        text-align: right;\n",
       "    }\n",
       "</style>\n",
       "<table border=\"1\" class=\"dataframe\">\n",
       "  <thead>\n",
       "    <tr style=\"text-align: right;\">\n",
       "      <th></th>\n",
       "      <th>image</th>\n",
       "      <th>sender_id</th>\n",
       "      <th>label</th>\n",
       "      <th>kids</th>\n",
       "    </tr>\n",
       "  </thead>\n",
       "  <tbody>\n",
       "    <tr>\n",
       "      <th>0</th>\n",
       "      <td>4285fab0-751a-4b74-8e9b-43af05deee22</td>\n",
       "      <td>124</td>\n",
       "      <td>Not sure</td>\n",
       "      <td>False</td>\n",
       "    </tr>\n",
       "    <tr>\n",
       "      <th>1</th>\n",
       "      <td>ea7b6656-3f84-4eb3-9099-23e623fc1018</td>\n",
       "      <td>148</td>\n",
       "      <td>T-Shirt</td>\n",
       "      <td>False</td>\n",
       "    </tr>\n",
       "    <tr>\n",
       "      <th>2</th>\n",
       "      <td>00627a3f-0477-401c-95eb-92642cbe078d</td>\n",
       "      <td>94</td>\n",
       "      <td>Not sure</td>\n",
       "      <td>False</td>\n",
       "    </tr>\n",
       "    <tr>\n",
       "      <th>3</th>\n",
       "      <td>ea2ffd4d-9b25-4ca8-9dc2-bd27f1cc59fa</td>\n",
       "      <td>43</td>\n",
       "      <td>T-Shirt</td>\n",
       "      <td>False</td>\n",
       "    </tr>\n",
       "    <tr>\n",
       "      <th>4</th>\n",
       "      <td>3b86d877-2b9e-4c8b-a6a2-1d87513309d0</td>\n",
       "      <td>189</td>\n",
       "      <td>Shoes</td>\n",
       "      <td>False</td>\n",
       "    </tr>\n",
       "    <tr>\n",
       "      <th>...</th>\n",
       "      <td>...</td>\n",
       "      <td>...</td>\n",
       "      <td>...</td>\n",
       "      <td>...</td>\n",
       "    </tr>\n",
       "    <tr>\n",
       "      <th>5398</th>\n",
       "      <td>dfd4079d-967b-4b3e-8574-fbac11b58103</td>\n",
       "      <td>204</td>\n",
       "      <td>Shorts</td>\n",
       "      <td>False</td>\n",
       "    </tr>\n",
       "    <tr>\n",
       "      <th>5399</th>\n",
       "      <td>befa14be-8140-4faf-8061-1039947e329d</td>\n",
       "      <td>204</td>\n",
       "      <td>Body</td>\n",
       "      <td>True</td>\n",
       "    </tr>\n",
       "    <tr>\n",
       "      <th>5400</th>\n",
       "      <td>5379356a-40ee-4890-b416-2336a7d84061</td>\n",
       "      <td>310</td>\n",
       "      <td>Shorts</td>\n",
       "      <td>False</td>\n",
       "    </tr>\n",
       "    <tr>\n",
       "      <th>5401</th>\n",
       "      <td>65507fb8-3456-4c15-b53e-d1b03bf71a59</td>\n",
       "      <td>204</td>\n",
       "      <td>Shoes</td>\n",
       "      <td>False</td>\n",
       "    </tr>\n",
       "    <tr>\n",
       "      <th>5402</th>\n",
       "      <td>32b99302-cec7-4dec-adfa-3d4029674209</td>\n",
       "      <td>204</td>\n",
       "      <td>Skirt</td>\n",
       "      <td>False</td>\n",
       "    </tr>\n",
       "  </tbody>\n",
       "</table>\n",
       "<p>5403 rows × 4 columns</p>\n",
       "</div>"
      ],
      "text/plain": [
       "                                     image  sender_id     label   kids\n",
       "0     4285fab0-751a-4b74-8e9b-43af05deee22        124  Not sure  False\n",
       "1     ea7b6656-3f84-4eb3-9099-23e623fc1018        148   T-Shirt  False\n",
       "2     00627a3f-0477-401c-95eb-92642cbe078d         94  Not sure  False\n",
       "3     ea2ffd4d-9b25-4ca8-9dc2-bd27f1cc59fa         43   T-Shirt  False\n",
       "4     3b86d877-2b9e-4c8b-a6a2-1d87513309d0        189     Shoes  False\n",
       "...                                    ...        ...       ...    ...\n",
       "5398  dfd4079d-967b-4b3e-8574-fbac11b58103        204    Shorts  False\n",
       "5399  befa14be-8140-4faf-8061-1039947e329d        204      Body   True\n",
       "5400  5379356a-40ee-4890-b416-2336a7d84061        310    Shorts  False\n",
       "5401  65507fb8-3456-4c15-b53e-d1b03bf71a59        204     Shoes  False\n",
       "5402  32b99302-cec7-4dec-adfa-3d4029674209        204     Skirt  False\n",
       "\n",
       "[5403 rows x 4 columns]"
      ]
     },
     "metadata": {},
     "output_type": "display_data"
    }
   ],
   "source": [
    "#load dataset from kaggle\n",
    "df = pd.read_csv('/Users/howardluo/Desktop/474/project/archive/images.csv')\n",
    "display(df)"
   ]
  },
  {
   "cell_type": "code",
   "execution_count": 139,
   "id": "da818ed5",
   "metadata": {},
   "outputs": [],
   "source": [
    "#Load the Fashion-MNIST dataset and split into train and test\n",
    "(xTrain,yTrain), (xTest,yTest) = fashion_mnist.load_data()\n",
    "#reshape the xTrain\n",
    "xTrain = np.reshape(xTrain,(xTrain.shape[0],xTrain.shape[1]*xTrain.shape[2]))"
   ]
  },
  {
   "cell_type": "code",
   "execution_count": 140,
   "id": "5fbbeaa8",
   "metadata": {},
   "outputs": [
    {
     "data": {
      "text/plain": [
       "array([0, 1, 2, 3, 4, 6, 7], dtype=uint8)"
      ]
     },
     "execution_count": 140,
     "metadata": {},
     "output_type": "execute_result"
    }
   ],
   "source": [
    "#get T-shirt(0),trouser(1),pullover(2),dress(3),coat(4),shirt(6),sneaker(7) from xTrain and yTrain\n",
    "x_fm = []\n",
    "y_fm = []\n",
    "for i in range(yTrain.size):\n",
    "    if yTrain[i] in [0,1,2,3,4,6,7]:\n",
    "        x_fm.append(xTrain[i])\n",
    "        y_fm.append(yTrain[i])\n",
    "x_fm = np.array(x_fm)\n",
    "y_fm = np.array(y_fm)\n",
    "np.unique(y_fm)"
   ]
  },
  {
   "cell_type": "code",
   "execution_count": 141,
   "id": "c8348899",
   "metadata": {},
   "outputs": [
    {
     "name": "stdout",
     "output_type": "stream",
     "text": [
      "42000\n"
     ]
    }
   ],
   "source": [
    "print(y_fm.size)"
   ]
  },
  {
   "cell_type": "code",
   "execution_count": 142,
   "id": "817bdf25",
   "metadata": {},
   "outputs": [],
   "source": [
    "y_fm[y_fm==0]=0  #T-shirt\n",
    "y_fm[y_fm==1]=1  #Trouser\n",
    "y_fm[y_fm==2]=2  #Pullover\n",
    "y_fm[y_fm==3]=3  #Dress\n",
    "y_fm[y_fm==4]=4  #Coat\n",
    "y_fm[y_fm==6]=5  #Shirt\n",
    "y_fm[y_fm==7]=6  #Sneaker\n"
   ]
  },
  {
   "cell_type": "code",
   "execution_count": 143,
   "id": "cd92514d",
   "metadata": {},
   "outputs": [],
   "source": [
    "ss = StandardScaler()\n",
    "x_fm = ss.fit_transform(x_fm)"
   ]
  },
  {
   "cell_type": "code",
   "execution_count": 144,
   "id": "2bae3707",
   "metadata": {},
   "outputs": [
    {
     "data": {
      "text/plain": [
       "T-Shirt       1011\n",
       "Longsleeve     699\n",
       "Pants          692\n",
       "Shoes          431\n",
       "Shirt          378\n",
       "Dress          357\n",
       "Outwear        312\n",
       "Shorts         308\n",
       "Not sure       228\n",
       "Hat            171\n",
       "Skirt          155\n",
       "Polo           120\n",
       "Undershirt     118\n",
       "Blazer         109\n",
       "Hoodie         100\n",
       "Body            69\n",
       "Other           67\n",
       "Top             43\n",
       "Blouse          23\n",
       "Skip            12\n",
       "Name: label, dtype: int64"
      ]
     },
     "execution_count": 144,
     "metadata": {},
     "output_type": "execute_result"
    }
   ],
   "source": [
    "df[\"label\"].value_counts()"
   ]
  },
  {
   "cell_type": "code",
   "execution_count": 145,
   "id": "c8cc72b7",
   "metadata": {},
   "outputs": [
    {
     "data": {
      "text/html": [
       "<div>\n",
       "<style scoped>\n",
       "    .dataframe tbody tr th:only-of-type {\n",
       "        vertical-align: middle;\n",
       "    }\n",
       "\n",
       "    .dataframe tbody tr th {\n",
       "        vertical-align: top;\n",
       "    }\n",
       "\n",
       "    .dataframe thead th {\n",
       "        text-align: right;\n",
       "    }\n",
       "</style>\n",
       "<table border=\"1\" class=\"dataframe\">\n",
       "  <thead>\n",
       "    <tr style=\"text-align: right;\">\n",
       "      <th></th>\n",
       "      <th>image</th>\n",
       "      <th>label</th>\n",
       "    </tr>\n",
       "  </thead>\n",
       "  <tbody>\n",
       "    <tr>\n",
       "      <th>0</th>\n",
       "      <td>4285fab0-751a-4b74-8e9b-43af05deee22</td>\n",
       "      <td>Not sure</td>\n",
       "    </tr>\n",
       "    <tr>\n",
       "      <th>1</th>\n",
       "      <td>ea7b6656-3f84-4eb3-9099-23e623fc1018</td>\n",
       "      <td>T-Shirt</td>\n",
       "    </tr>\n",
       "    <tr>\n",
       "      <th>2</th>\n",
       "      <td>00627a3f-0477-401c-95eb-92642cbe078d</td>\n",
       "      <td>Not sure</td>\n",
       "    </tr>\n",
       "    <tr>\n",
       "      <th>3</th>\n",
       "      <td>ea2ffd4d-9b25-4ca8-9dc2-bd27f1cc59fa</td>\n",
       "      <td>T-Shirt</td>\n",
       "    </tr>\n",
       "    <tr>\n",
       "      <th>4</th>\n",
       "      <td>3b86d877-2b9e-4c8b-a6a2-1d87513309d0</td>\n",
       "      <td>Shoes</td>\n",
       "    </tr>\n",
       "    <tr>\n",
       "      <th>...</th>\n",
       "      <td>...</td>\n",
       "      <td>...</td>\n",
       "    </tr>\n",
       "    <tr>\n",
       "      <th>5398</th>\n",
       "      <td>dfd4079d-967b-4b3e-8574-fbac11b58103</td>\n",
       "      <td>Shorts</td>\n",
       "    </tr>\n",
       "    <tr>\n",
       "      <th>5399</th>\n",
       "      <td>befa14be-8140-4faf-8061-1039947e329d</td>\n",
       "      <td>Body</td>\n",
       "    </tr>\n",
       "    <tr>\n",
       "      <th>5400</th>\n",
       "      <td>5379356a-40ee-4890-b416-2336a7d84061</td>\n",
       "      <td>Shorts</td>\n",
       "    </tr>\n",
       "    <tr>\n",
       "      <th>5401</th>\n",
       "      <td>65507fb8-3456-4c15-b53e-d1b03bf71a59</td>\n",
       "      <td>Shoes</td>\n",
       "    </tr>\n",
       "    <tr>\n",
       "      <th>5402</th>\n",
       "      <td>32b99302-cec7-4dec-adfa-3d4029674209</td>\n",
       "      <td>Skirt</td>\n",
       "    </tr>\n",
       "  </tbody>\n",
       "</table>\n",
       "<p>5403 rows × 2 columns</p>\n",
       "</div>"
      ],
      "text/plain": [
       "                                     image     label\n",
       "0     4285fab0-751a-4b74-8e9b-43af05deee22  Not sure\n",
       "1     ea7b6656-3f84-4eb3-9099-23e623fc1018   T-Shirt\n",
       "2     00627a3f-0477-401c-95eb-92642cbe078d  Not sure\n",
       "3     ea2ffd4d-9b25-4ca8-9dc2-bd27f1cc59fa   T-Shirt\n",
       "4     3b86d877-2b9e-4c8b-a6a2-1d87513309d0     Shoes\n",
       "...                                    ...       ...\n",
       "5398  dfd4079d-967b-4b3e-8574-fbac11b58103    Shorts\n",
       "5399  befa14be-8140-4faf-8061-1039947e329d      Body\n",
       "5400  5379356a-40ee-4890-b416-2336a7d84061    Shorts\n",
       "5401  65507fb8-3456-4c15-b53e-d1b03bf71a59     Shoes\n",
       "5402  32b99302-cec7-4dec-adfa-3d4029674209     Skirt\n",
       "\n",
       "[5403 rows x 2 columns]"
      ]
     },
     "execution_count": 145,
     "metadata": {},
     "output_type": "execute_result"
    }
   ],
   "source": [
    "df1=df[['image','label']]\n",
    "df1"
   ]
  },
  {
   "cell_type": "code",
   "execution_count": 180,
   "id": "b5d8a8ea",
   "metadata": {},
   "outputs": [],
   "source": [
    "path = '/Users/howardluo/Desktop/474/project/archive/images_original'\n",
    "\n",
    "files= os.listdir(path)"
   ]
  },
  {
   "cell_type": "code",
   "execution_count": 181,
   "id": "ec36a9ea",
   "metadata": {},
   "outputs": [],
   "source": [
    "#preprocess(read pic)\n",
    "h = 28\n",
    "w = 28\n",
    "x = []\n",
    "y = []\n",
    "for f in files:\n",
    "    img = cv2.imread(path+'/'+f, cv2.IMREAD_GRAYSCALE)\n",
    "    pic = f.replace('.jpg', '')\n",
    "    for i, label in enumerate(df1['image']):\n",
    "        if label == pic:\n",
    "            # background remove \n",
    "            _, binary_img = cv2.threshold(img, 0, 255, cv2.THRESH_BINARY + cv2.THRESH_OTSU)\n",
    "            segmented_img = cv2.bitwise_and(img, img, mask=binary_img)\n",
    "\n",
    "            resized_img = cv2.resize(segmented_img, (h, w))\n",
    "            x.append(resized_img.flatten())\n",
    "            y.append(df1.loc[i, 'label'])  # Assuming df1 is a DataFrame with 'label' column\n",
    "    \n",
    "x = np.array(x)\n",
    "y = np.array(y)\n"
   ]
  },
  {
   "cell_type": "code",
   "execution_count": 182,
   "id": "b0227478",
   "metadata": {},
   "outputs": [],
   "source": [
    "# Horizontal rotate\n",
    "flip_x = []\n",
    "for image in x:\n",
    "    flipped_image = cv2.flip(image, 1)  \n",
    "    \n",
    "    flip_x.append(flipped_image.reshape(-1))\n",
    "\n",
    "flipped_x = np.array(flip_x)"
   ]
  },
  {
   "cell_type": "code",
   "execution_count": 183,
   "id": "c66be4f5",
   "metadata": {},
   "outputs": [],
   "source": [
    "flipped_x1 = flipped_x.reshape(-1)"
   ]
  },
  {
   "cell_type": "code",
   "execution_count": 184,
   "id": "25f7a3c9",
   "metadata": {},
   "outputs": [
    {
     "name": "stdout",
     "output_type": "stream",
     "text": [
      "4235952\n",
      "4235952\n"
     ]
    },
    {
     "data": {
      "text/plain": [
       "5403"
      ]
     },
     "execution_count": 184,
     "metadata": {},
     "output_type": "execute_result"
    }
   ],
   "source": [
    "print (flipped_x1.size)\n",
    "print (x.size)\n",
    "x.ndim\n",
    "y.size"
   ]
  },
  {
   "cell_type": "code",
   "execution_count": 185,
   "id": "1dedbdb8",
   "metadata": {},
   "outputs": [
    {
     "data": {
      "text/plain": [
       "array([  0,   0,   0,   0,   0,   0,   0,   0,   0,   0,   0,   0,   0,\n",
       "         0,   0,   0,   0,   0,   0,   0,   0,   0,   0,   0,   0,   0,\n",
       "         0,   0,   0,   0,   0,   0,   0,   0,   0,   0,   0,   0,   0,\n",
       "         0,   0,   0,   0,   0,   0,   0,   0,   0,   0,   0,   0,   0,\n",
       "         0,   0,   0,   0,   0,   0,   0,   0,   0,   0,   0,   0,   0,\n",
       "         0,   0,   0,   0,   0,   0,   0,   0,   0,   0,   0,   0,   0,\n",
       "         0,   0,   0,   0,   0,   0,   0,   0,   0,   0,   0,   0,   0,\n",
       "         0,   0,   0,   0,   0,   0,   0,   0,   0,   0,   0,   0,   0,\n",
       "         0,   0,   0,   0,   0,   0,   0,   0,   0,   0,   0,   0,   0,\n",
       "         0,   0,   0, 238, 210,   0,   0,   0,   0,   0,   0,   0, 198,\n",
       "       205, 186,   0,   0,   0,   0,   0,   0,   0,   0,   0,   0,   0,\n",
       "         0,   0,   0,   0,   0, 173, 186, 200, 195, 227, 211, 213, 192,\n",
       "       209, 198, 227, 184,   0,   0,   0,   0,   0,   0,   0,   0,   0,\n",
       "         0,   0,   0,   0,   0,   0,   0, 199, 210, 202, 210, 223, 198,\n",
       "       218, 217, 199, 232, 228, 231,   0,   0,   0,   0,   0,   0,   0,\n",
       "         0,   0,   0,   0,   0,   0,   0,   0,   0, 216, 232, 226, 223,\n",
       "       219, 200, 226, 203, 234, 239, 231, 210,   0,   0,   0,   0,   0,\n",
       "         0,   0,   0,   0,   0,   0,   0,   0,   0,   0, 225, 220, 223,\n",
       "       222, 234, 231, 223, 216, 227, 226, 208, 215, 226, 220,   0,   0,\n",
       "         0,   0,   0,   0,   0,   0,   0,   0,   0,   0,   0, 227, 227,\n",
       "       209, 210, 226, 211, 222, 215, 230, 223, 211, 227, 231, 214, 211,\n",
       "       217,   0,   0,   0,   0,   0,   0,   0,   0,   0,   0,   0,   0,\n",
       "       210, 218, 224, 227, 224, 225, 233, 225,   0, 224, 226, 226, 224,\n",
       "       221, 226, 225,   0,   0,   0,   0,   0,   0,   0,   0,   0,   0,\n",
       "         0,   0, 209, 226, 228, 225, 223, 227,   0,   0,   0,   0, 225,\n",
       "       226, 229, 225, 225, 224,   0,   0,   0,   0,   0,   0,   0,   0,\n",
       "         0,   0,   0,   0, 229, 205, 232, 226, 220, 222,   0,   0,   0,\n",
       "         0, 231, 223, 225, 225, 226, 221,   0,   0,   0,   0,   0,   0,\n",
       "         0,   0,   0,   0,   0,   0, 221, 222, 204, 221, 212,   0, 214,\n",
       "         0,   0, 230, 214, 193, 226, 221, 220, 217,   0,   0,   0,   0,\n",
       "         0,   0,   0,   0,   0,   0,   0, 225, 225, 215, 211, 227, 219,\n",
       "       218, 218, 220, 237, 223, 229, 197, 228, 224, 220, 213,   0,   0,\n",
       "         0,   0,   0,   0,   0,   0,   0,   0,   0, 210, 210, 225, 215,\n",
       "       210, 216, 215, 225, 208, 217, 133, 201, 229, 213, 228, 215, 213,\n",
       "         0,   0,   0,   0,   0,   0,   0,   0,   0,   0,   0, 194, 219,\n",
       "       203, 212, 207,  79, 223, 190, 226, 220, 213, 201, 194, 209, 223,\n",
       "       221, 215, 211,   0,   0,   0,   0,   0,   0,   0,   0,   0,   0,\n",
       "       199, 211, 218, 217, 214, 226, 219, 212, 219, 220, 218, 221, 224,\n",
       "       219, 217, 220, 219, 218,   0,   0,   0,   0,   0,   0,   0,   0,\n",
       "         0,   0, 202, 200, 212, 215, 207, 217, 211, 211, 205, 207, 220,\n",
       "       222, 199, 215, 205, 225, 213, 211,   0,   0,   0,   0,   0,   0,\n",
       "         0,   0,   0, 201, 213, 209, 189, 207, 199, 208, 183, 208, 214,\n",
       "       214, 214, 214, 217, 218, 212, 173, 212, 197,   0,   0,   0,   0,\n",
       "         0,   0,   0,   0,   0, 181, 219, 204, 218, 224, 209, 209, 218,\n",
       "         0,   0,   0, 141, 196, 224, 215, 209, 206, 203, 213,   0,   0,\n",
       "         0,   0,   0,   0,   0,   0, 219, 184, 215, 162, 217,   0,   0,\n",
       "         0,   0,   0,   0,   0,   0,   0,   0,   0,   0, 173, 229, 191,\n",
       "       219,   0,   0,   0,   0,   0,   0,   0, 211,   0,   0,   0,   0,\n",
       "         0,   0,   0,   0,   0,   0,   0,   0,   0,   0,   0,   0,   0,\n",
       "         0,   0, 228,   0,   0,   0,   0,   0,   0,   0,   0,   0,   0,\n",
       "         0,   0,   0,   0,   0,   0,   0,   0,   0,   0,   0,   0,   0,\n",
       "         0,   0,   0,   0,   0,   0,   0,   0,   0,   0,   0,   0,   0,\n",
       "         0,   0,   0,   0,   0,   0,   0,   0,   0,   0,   0,   0,   0,\n",
       "         0,   0,   0,   0,   0,   0,   0,   0,   0,   0,   0,   0,   0,\n",
       "         0,   0,   0,   0,   0,   0,   0,   0,   0,   0,   0,   0,   0,\n",
       "         0,   0,   0,   0,   0,   0,   0,   0,   0,   0,   0,   0,   0,\n",
       "         0,   0,   0,   0,   0,   0,   0,   0,   0,   0,   0,   0,   0,\n",
       "         0,   0,   0,   0,   0,   0,   0,   0,   0,   0,   0,   0,   0,\n",
       "         0,   0,   0,   0,   0,   0,   0,   0,   0,   0,   0,   0,   0,\n",
       "         0,   0,   0,   0,   0,   0,   0,   0,   0,   0,   0,   0,   0,\n",
       "         0,   0,   0,   0], dtype=uint8)"
      ]
     },
     "execution_count": 185,
     "metadata": {},
     "output_type": "execute_result"
    }
   ],
   "source": [
    "flipped_x[0]"
   ]
  },
  {
   "cell_type": "code",
   "execution_count": 186,
   "id": "42e8e8ba",
   "metadata": {},
   "outputs": [
    {
     "name": "stdout",
     "output_type": "stream",
     "text": [
      "1\n"
     ]
    }
   ],
   "source": [
    "data = np.array(x[0])\n",
    "print (data.ndim)"
   ]
  },
  {
   "cell_type": "code",
   "execution_count": 187,
   "id": "2cebacc9",
   "metadata": {},
   "outputs": [
    {
     "name": "stdout",
     "output_type": "stream",
     "text": [
      "[  0   0   0   0   0   0   0   0   0   0   0   0   0   0   0   0   0   0\n",
      "   0   0   0   0   0   0   0   0   0   0   0   0   0   0   0   0   0   0\n",
      "   0   0   0   0   0   0   0   0   0   0   0   0   0   0   0   0   0   0\n",
      "   0   0   0   0   0   0   0   0   0   0   0   0   0   0   0   0   0   0\n",
      "   0   0   0   0   0   0   0   0   0   0   0   0   0   0   0   0   0   0\n",
      "   0   0   0   0   0   0   0   0   0   0   0   0   0   0   0   0   0   0\n",
      "   0   0   0   0   0   0   0   0   0   0   0   0 238 210   0   0   0   0\n",
      "   0   0   0 198 205 186   0   0   0   0   0   0   0   0   0   0   0   0\n",
      "   0   0   0   0 173 186 200 195 227 211 213 192 209 198 227 184   0   0\n",
      "   0   0   0   0   0   0   0   0   0   0   0   0   0   0 199 210 202 210\n",
      " 223 198 218 217 199 232 228 231   0   0   0   0   0   0   0   0   0   0\n",
      "   0   0   0   0   0   0 216 232 226 223 219 200 226 203 234 239 231 210\n",
      "   0   0   0   0   0   0   0   0   0   0   0   0   0   0   0 225 220 223\n",
      " 222 234 231 223 216 227 226 208 215 226 220   0   0   0   0   0   0   0\n",
      "   0   0   0   0   0   0 227 227 209 210 226 211 222 215 230 223 211 227\n",
      " 231 214 211 217   0   0   0   0   0   0   0   0   0   0   0   0 210 218\n",
      " 224 227 224 225 233 225   0 224 226 226 224 221 226 225   0   0   0   0\n",
      "   0   0   0   0   0   0   0   0 209 226 228 225 223 227   0   0   0   0\n",
      " 225 226 229 225 225 224   0   0   0   0   0   0   0   0   0   0   0   0\n",
      " 229 205 232 226 220 222   0   0   0   0 231 223 225 225 226 221   0   0\n",
      "   0   0   0   0   0   0   0   0   0   0 221 222 204 221 212   0 214   0\n",
      "   0 230 214 193 226 221 220 217   0   0   0   0   0   0   0   0   0   0\n",
      "   0 225 225 215 211 227 219 218 218 220 237 223 229 197 228 224 220 213\n",
      "   0   0   0   0   0   0   0   0   0   0   0 210 210 225 215 210 216 215\n",
      " 225 208 217 133 201 229 213 228 215 213   0   0   0   0   0   0   0   0\n",
      "   0   0   0 194 219 203 212 207  79 223 190 226 220 213 201 194 209 223\n",
      " 221 215 211   0   0   0   0   0   0   0   0   0   0 199 211 218 217 214\n",
      " 226 219 212 219 220 218 221 224 219 217 220 219 218   0   0   0   0   0\n",
      "   0   0   0   0   0 202 200 212 215 207 217 211 211 205 207 220 222 199\n",
      " 215 205 225 213 211   0   0   0   0   0   0   0   0   0 201 213 209 189\n",
      " 207 199 208 183 208 214 214 214 214 217 218 212 173 212 197   0   0   0\n",
      "   0   0   0   0   0   0 181 219 204 218 224 209 209 218   0   0   0 141\n",
      " 196 224 215 209 206 203 213   0   0   0   0   0   0   0   0 219 184 215\n",
      " 162 217   0   0   0   0   0   0   0   0   0   0   0   0 173 229 191 219\n",
      "   0   0   0   0   0   0   0 211   0   0   0   0   0   0   0   0   0   0\n",
      "   0   0   0   0   0   0   0   0   0 228   0   0   0   0   0   0   0   0\n",
      "   0   0   0   0   0   0   0   0   0   0   0   0   0   0   0   0   0   0\n",
      "   0   0   0   0   0   0   0   0   0   0   0   0   0   0   0   0   0   0\n",
      "   0   0   0   0   0   0   0   0   0   0   0   0   0   0   0   0   0   0\n",
      "   0   0   0   0   0   0   0   0   0   0   0   0   0   0   0   0   0   0\n",
      "   0   0   0   0   0   0   0   0   0   0   0   0   0   0   0   0   0   0\n",
      "   0   0   0   0   0   0   0   0   0   0   0   0   0   0   0   0   0   0\n",
      "   0   0   0   0   0   0   0   0   0   0   0   0   0   0   0   0   0   0\n",
      "   0   0   0   0   0   0   0   0   0   0]\n"
     ]
    }
   ],
   "source": [
    "print (x[0])"
   ]
  },
  {
   "cell_type": "code",
   "execution_count": 188,
   "id": "608a2608",
   "metadata": {},
   "outputs": [
    {
     "name": "stdout",
     "output_type": "stream",
     "text": [
      "['Undershirt' 'Longsleeve' 'T-Shirt' ... 'Other' 'Undershirt' 'Shirt']\n"
     ]
    }
   ],
   "source": [
    "print(y)"
   ]
  },
  {
   "cell_type": "code",
   "execution_count": 189,
   "id": "b49d86df",
   "metadata": {},
   "outputs": [
    {
     "data": {
      "text/plain": [
       "3880"
      ]
     },
     "execution_count": 189,
     "metadata": {},
     "output_type": "execute_result"
    }
   ],
   "source": [
    "data = []\n",
    "data_label = []\n",
    "for i in range(y.size):\n",
    "    if y[i] in ['T-Shirt','Pants','Longsleeve','Dress','Outwear','Shirt','Shoes']:\n",
    "        data.append(flipped_x[i])\n",
    "        data_label.append(y[i])\n",
    "# data=np.array(data)\n",
    "# data_label=np.array(data_label)\n",
    "np.unique(data_label)\n",
    "\n",
    "len(data)"
   ]
  },
  {
   "cell_type": "code",
   "execution_count": 190,
   "id": "a38b5918",
   "metadata": {},
   "outputs": [
    {
     "data": {
      "text/plain": [
       "3880"
      ]
     },
     "execution_count": 190,
     "metadata": {},
     "output_type": "execute_result"
    }
   ],
   "source": [
    "flip_data = []\n",
    "flip_data_label = []\n",
    "for i in range(y.size):\n",
    "    if y[i] in ['T-Shirt','Pants','Longsleeve','Dress','Outwear','Shirt','Shoes']:\n",
    "        flip_data.append(x[i])\n",
    "        flip_data_label.append(y[i])\n",
    "# flip_data=np.array(flip_data)\n",
    "# data_label=np.array(data_label)\n",
    "np.unique(data_label)\n",
    "len(flip_data)"
   ]
  },
  {
   "cell_type": "code",
   "execution_count": 191,
   "id": "b7cdc764",
   "metadata": {},
   "outputs": [],
   "source": [
    "Merge_data = data + flip_data\n",
    "Merge_data_label = data_label + flip_data_label\n",
    "\n",
    "Merge_data = np.array(Merge_data)\n",
    "Merge_data_label = np.array(Merge_data_label)"
   ]
  },
  {
   "cell_type": "code",
   "execution_count": 192,
   "id": "6060666d",
   "metadata": {},
   "outputs": [],
   "source": [
    "data=np.array(data)\n",
    "data_label=np.array(data_label)\n",
    "\n",
    "flip_data=np.array(flip_data)\n",
    "flip_data_label=np.array(flip_data_label)"
   ]
  },
  {
   "cell_type": "code",
   "execution_count": 193,
   "id": "f7f27ee7",
   "metadata": {},
   "outputs": [],
   "source": [
    "Merge_data_label[Merge_data_label=='T-Shirt']=0    #T-Shirt\n",
    "Merge_data_label[Merge_data_label=='Pants']=1      #Trouser \n",
    "Merge_data_label[Merge_data_label=='Longsleeve']=2 #Pullover\n",
    "Merge_data_label[Merge_data_label=='Dress']=3      #Dress\n",
    "Merge_data_label[Merge_data_label=='Outwear']=4    #Coat\n",
    "Merge_data_label[Merge_data_label=='Shirt']=5      #Shirt\n",
    "Merge_data_label[Merge_data_label=='Shoes']=6      #Sneaker\n",
    "#data_label[data_label=='Hat']=7\n",
    "\n"
   ]
  },
  {
   "cell_type": "code",
   "execution_count": 194,
   "id": "f7e39eb1",
   "metadata": {
    "scrolled": true
   },
   "outputs": [],
   "source": [
    "ss = StandardScaler()\n",
    "data = ss.fit_transform(Merge_data)\n",
    "\n"
   ]
  },
  {
   "cell_type": "code",
   "execution_count": 195,
   "id": "121b8dbc",
   "metadata": {},
   "outputs": [],
   "source": [
    "Merge_data_label=Merge_data_label.reshape(Merge_data_label.shape[0]).astype('int')"
   ]
  },
  {
   "cell_type": "code",
   "execution_count": 196,
   "id": "94fbcbea",
   "metadata": {},
   "outputs": [
    {
     "data": {
      "text/plain": [
       "3880"
      ]
     },
     "execution_count": 196,
     "metadata": {},
     "output_type": "execute_result"
    }
   ],
   "source": [
    "data_label.size"
   ]
  },
  {
   "attachments": {},
   "cell_type": "markdown",
   "id": "11dcd706",
   "metadata": {},
   "source": [
    "# Train and test on the dataset from kaggle"
   ]
  },
  {
   "cell_type": "code",
   "execution_count": 104,
   "id": "bcbfd872",
   "metadata": {},
   "outputs": [],
   "source": [
    "#split the data into train and test\n",
    "train_x,test_x,train_y,test_y=train_test_split(Merge_data, Merge_data_label, test_size = 0.2)"
   ]
  },
  {
   "cell_type": "code",
   "execution_count": 105,
   "id": "0cbb5d8c",
   "metadata": {},
   "outputs": [
    {
     "name": "stdout",
     "output_type": "stream",
     "text": [
      "accuracy 0.9265463917525774\n"
     ]
    }
   ],
   "source": [
    "model = RandomForestClassifier(n_estimators=100,criterion=\"gini\" ,random_state=99)\n",
    "model.fit(train_x,train_y)\n",
    "\n",
    "y_pred = model.predict(test_x)\n",
    "\n",
    "accuracy = accuracy_score(test_y,y_pred)\n",
    "print(\"accuracy\", accuracy)"
   ]
  },
  {
   "cell_type": "code",
   "execution_count": 106,
   "id": "51729de5",
   "metadata": {},
   "outputs": [
    {
     "name": "stdout",
     "output_type": "stream",
     "text": [
      "accuracy 0.9278350515463918\n"
     ]
    }
   ],
   "source": [
    "model = RandomForestClassifier(n_estimators=100,criterion=\"entropy\" ,random_state=99)\n",
    "model.fit(train_x,train_y)\n",
    "\n",
    "y_pred = model.predict(test_x)\n",
    "\n",
    "accuracy = accuracy_score(test_y,y_pred)\n",
    "print(\"accuracy\", accuracy)"
   ]
  },
  {
   "cell_type": "code",
   "execution_count": 107,
   "id": "49a41234",
   "metadata": {},
   "outputs": [
    {
     "data": {
      "text/plain": [
       "Text(33.0, 0.5, 'Actual')"
      ]
     },
     "execution_count": 107,
     "metadata": {},
     "output_type": "execute_result"
    },
    {
     "data": {
      "image/png": "[encoded data removed]",
      "text/plain": [
       "<Figure size 432x288 with 2 Axes>"
      ]
     },
     "metadata": {
      "needs_background": "light"
     },
     "output_type": "display_data"
    }
   ],
   "source": [
    "matrix = confusion_matrix(test_y,y_pred)\n",
    "sns.heatmap(matrix,cmap=\"Greens\", annot=True, fmt='g')\n",
    "plt.title(\"Confusion Matrix\")\n",
    "plt.xlabel('Predicted')\n",
    "plt.ylabel('Actual')"
   ]
  },
  {
   "cell_type": "code",
   "execution_count": 108,
   "id": "972b8891",
   "metadata": {},
   "outputs": [
    {
     "name": "stdout",
     "output_type": "stream",
     "text": [
      "              precision    recall  f1-score   support\n",
      "\n",
      "           0       0.88      0.96      0.92       409\n",
      "           1       0.95      0.99      0.97       252\n",
      "           2       0.88      0.96      0.92       288\n",
      "           3       0.97      0.85      0.91       158\n",
      "           4       0.98      0.87      0.92       119\n",
      "           5       0.97      0.82      0.88       141\n",
      "           6       0.99      0.91      0.95       185\n",
      "\n",
      "    accuracy                           0.93      1552\n",
      "   macro avg       0.95      0.91      0.92      1552\n",
      "weighted avg       0.93      0.93      0.93      1552\n",
      "\n"
     ]
    }
   ],
   "source": [
    "print(classification_report(test_y,y_pred))"
   ]
  },
  {
   "cell_type": "code",
   "execution_count": 109,
   "id": "3fef3080",
   "metadata": {},
   "outputs": [
    {
     "data": {
      "text/plain": [
       "0.9123711340206185"
      ]
     },
     "execution_count": 109,
     "metadata": {},
     "output_type": "execute_result"
    }
   ],
   "source": [
    "mean_squared_error(test_y,y_pred)"
   ]
  },
  {
   "attachments": {},
   "cell_type": "markdown",
   "id": "d8a03eb0",
   "metadata": {},
   "source": [
    "\n",
    "# Train on kaggle dataset and test on fashion mnist dataset"
   ]
  },
  {
   "cell_type": "code",
   "execution_count": 53,
   "id": "8cd815ad",
   "metadata": {},
   "outputs": [],
   "source": [
    "#use kaggle dataset for train\n",
    "train_x = Merge_data\n",
    "train_y = Merge_data_label\n",
    "#use fashion mnist dataset for test\n",
    "test_x = x_fm\n",
    "test_y = y_fm"
   ]
  },
  {
   "cell_type": "code",
   "execution_count": 54,
   "id": "b9691754",
   "metadata": {},
   "outputs": [
    {
     "name": "stdout",
     "output_type": "stream",
     "text": [
      "Accuracy: 0.14285714285714285\n"
     ]
    }
   ],
   "source": [
    "\n",
    "# Create and train the decision tree model\n",
    "model = DecisionTreeClassifier(criterion='gini', max_depth=None, random_state=0)\n",
    "model.fit(train_x, train_y)\n",
    "\n",
    "# Predict the labels for the test set\n",
    "y_pred = model.predict(test_x)\n",
    "\n",
    "# Calculate accuracy\n",
    "accuracy = accuracy_score(test_y, y_pred)\n",
    "print('Accuracy:', accuracy)"
   ]
  },
  {
   "attachments": {},
   "cell_type": "markdown",
   "id": "f9a4adbf",
   "metadata": {},
   "source": [
    "# Train on kaggle dataset and test on fashion mnist dataset"
   ]
  },
  {
   "cell_type": "code",
   "execution_count": 166,
   "id": "715e336b",
   "metadata": {},
   "outputs": [],
   "source": [
    "#use kaggle dataset for train\n",
    "train_x = Merge_data\n",
    "train_y = Merge_data_label\n",
    "#use fashion mnist dataset for test\n",
    "test_x = x_fm\n",
    "test_y = y_fm"
   ]
  },
  {
   "cell_type": "code",
   "execution_count": 167,
   "id": "9fe78a91",
   "metadata": {},
   "outputs": [
    {
     "name": "stdout",
     "output_type": "stream",
     "text": [
      "accuracy 0.14323809523809525\n"
     ]
    }
   ],
   "source": [
    "model = RandomForestClassifier(n_estimators=100,criterion=\"gini\" ,random_state=99)\n",
    "model.fit(train_x,train_y)\n",
    "\n",
    "y_pred = model.predict(test_x)\n",
    "\n",
    "accuracy = accuracy_score(test_y,y_pred)\n",
    "print(\"accuracy\", accuracy)"
   ]
  },
  {
   "cell_type": "code",
   "execution_count": 168,
   "id": "9ea64a3c",
   "metadata": {},
   "outputs": [
    {
     "data": {
      "text/plain": [
       "Text(33.0, 0.5, 'Actual')"
      ]
     },
     "execution_count": 168,
     "metadata": {},
     "output_type": "execute_result"
    },
    {
     "data": {
      "image/png": "[encoded data removed]",
      "text/plain": [
       "<Figure size 432x288 with 2 Axes>"
      ]
     },
     "metadata": {
      "needs_background": "light"
     },
     "output_type": "display_data"
    }
   ],
   "source": [
    "matrix = confusion_matrix(test_y,y_pred)\n",
    "sns.heatmap(matrix,cmap=\"Greens\", annot=True, fmt='g')\n",
    "plt.title(\"Confusion Matrix\")\n",
    "plt.xlabel('Predicted')\n",
    "plt.ylabel('Actual')"
   ]
  },
  {
   "cell_type": "code",
   "execution_count": 169,
   "id": "f6879614",
   "metadata": {},
   "outputs": [
    {
     "name": "stdout",
     "output_type": "stream",
     "text": [
      "              precision    recall  f1-score   support\n",
      "\n",
      "           0       0.12      0.00      0.01      6000\n",
      "           1       0.00      0.00      0.00      6000\n",
      "           2       0.14      1.00      0.25      6000\n",
      "           3       0.00      0.00      0.00      6000\n",
      "           4       0.00      0.00      0.00      6000\n",
      "           5       0.00      0.00      0.00      6000\n",
      "           6       0.00      0.00      0.00      6000\n",
      "\n",
      "    accuracy                           0.14     42000\n",
      "   macro avg       0.04      0.14      0.04     42000\n",
      "weighted avg       0.04      0.14      0.04     42000\n",
      "\n"
     ]
    },
    {
     "name": "stderr",
     "output_type": "stream",
     "text": [
      "/Users/howardluo/opt/anaconda3/lib/python3.9/site-packages/sklearn/metrics/_classification.py:1248: UndefinedMetricWarning: Precision and F-score are ill-defined and being set to 0.0 in labels with no predicted samples. Use `zero_division` parameter to control this behavior.\n",
      "  _warn_prf(average, modifier, msg_start, len(result))\n",
      "/Users/howardluo/opt/anaconda3/lib/python3.9/site-packages/sklearn/metrics/_classification.py:1248: UndefinedMetricWarning: Precision and F-score are ill-defined and being set to 0.0 in labels with no predicted samples. Use `zero_division` parameter to control this behavior.\n",
      "  _warn_prf(average, modifier, msg_start, len(result))\n",
      "/Users/howardluo/opt/anaconda3/lib/python3.9/site-packages/sklearn/metrics/_classification.py:1248: UndefinedMetricWarning: Precision and F-score are ill-defined and being set to 0.0 in labels with no predicted samples. Use `zero_division` parameter to control this behavior.\n",
      "  _warn_prf(average, modifier, msg_start, len(result))\n"
     ]
    }
   ],
   "source": [
    "print(classification_report(test_y,y_pred))"
   ]
  },
  {
   "cell_type": "code",
   "execution_count": 170,
   "id": "739622f6",
   "metadata": {},
   "outputs": [
    {
     "data": {
      "text/plain": [
       "5.073428571428572"
      ]
     },
     "execution_count": 170,
     "metadata": {},
     "output_type": "execute_result"
    }
   ],
   "source": [
    "mean_squared_error(test_y,y_pred)"
   ]
  },
  {
   "attachments": {},
   "cell_type": "markdown",
   "id": "3bdf477c",
   "metadata": {},
   "source": [
    "#  Train on fashion mnist dataset and test on kaggle dataset"
   ]
  },
  {
   "cell_type": "code",
   "execution_count": 171,
   "id": "ab186406",
   "metadata": {},
   "outputs": [],
   "source": [
    "(train_images, train_labels), _ = fashion_mnist.load_data()\n",
    "#use fashion mnist dataset for train\n",
    "scaler = StandardScaler()\n",
    "train_images = scaler.fit_transform(train_images.reshape(-1, 28*28))\n",
    "\n",
    "# Use only half of the data for training\n",
    "num_samples = len(train_images) // 2\n",
    "train_x = train_images[:num_samples]\n",
    "train_y = train_labels[:num_samples]\n",
    "#use kaggle dataset for test\n",
    "test_x = Merge_data\n",
    "test_y = Merge_data_label"
   ]
  },
  {
   "cell_type": "code",
   "execution_count": 172,
   "id": "60b250c8",
   "metadata": {},
   "outputs": [
    {
     "name": "stdout",
     "output_type": "stream",
     "text": [
      "Accuracy: 0.08067010309278351\n"
     ]
    }
   ],
   "source": [
    "# Create and train the decision tree model\n",
    "model = DecisionTreeClassifier(criterion='gini', max_depth=None, random_state=0)\n",
    "model.fit(train_x, train_y)\n",
    "\n",
    "# Predict the labels for the test set\n",
    "y_pred = model.predict(test_x)\n",
    "\n",
    "# Calculate accuracy\n",
    "accuracy = accuracy_score(test_y, y_pred)\n",
    "print('Accuracy:', accuracy)"
   ]
  },
  {
   "cell_type": "code",
   "execution_count": 173,
   "id": "d5cccfed",
   "metadata": {},
   "outputs": [
    {
     "data": {
      "text/plain": [
       "Text(33.0, 0.5, 'Actual')"
      ]
     },
     "execution_count": 173,
     "metadata": {},
     "output_type": "execute_result"
    },
    {
     "data": {
      "image/png": "[encoded data removed]",
      "text/plain": [
       "<Figure size 432x288 with 2 Axes>"
      ]
     },
     "metadata": {
      "needs_background": "light"
     },
     "output_type": "display_data"
    }
   ],
   "source": [
    "matrix = confusion_matrix(test_y,y_pred)\n",
    "sns.heatmap(matrix,cmap=\"Greens\", annot=True, fmt='g')\n",
    "plt.title(\"Confusion Matrix\")\n",
    "plt.xlabel('Predicted')\n",
    "plt.ylabel('Actual')"
   ]
  },
  {
   "cell_type": "code",
   "execution_count": 174,
   "id": "dd192dfe",
   "metadata": {},
   "outputs": [
    {
     "name": "stdout",
     "output_type": "stream",
     "text": [
      "              precision    recall  f1-score   support\n",
      "\n",
      "           0       0.14      0.26      0.18      2022\n",
      "           1       0.11      0.00      0.01      1384\n",
      "           2       0.18      0.02      0.03      1398\n",
      "           3       0.00      0.00      0.00       714\n",
      "           4       0.04      0.02      0.03       624\n",
      "           5       0.00      0.00      0.00       756\n",
      "           6       0.08      0.08      0.08       862\n",
      "           8       0.00      0.00      0.00         0\n",
      "           9       0.00      0.00      0.00         0\n",
      "\n",
      "    accuracy                           0.08      7760\n",
      "   macro avg       0.06      0.04      0.04      7760\n",
      "weighted avg       0.10      0.08      0.06      7760\n",
      "\n"
     ]
    },
    {
     "name": "stderr",
     "output_type": "stream",
     "text": [
      "/Users/howardluo/opt/anaconda3/lib/python3.9/site-packages/sklearn/metrics/_classification.py:1248: UndefinedMetricWarning: Precision and F-score are ill-defined and being set to 0.0 in labels with no predicted samples. Use `zero_division` parameter to control this behavior.\n",
      "  _warn_prf(average, modifier, msg_start, len(result))\n",
      "/Users/howardluo/opt/anaconda3/lib/python3.9/site-packages/sklearn/metrics/_classification.py:1248: UndefinedMetricWarning: Recall and F-score are ill-defined and being set to 0.0 in labels with no true samples. Use `zero_division` parameter to control this behavior.\n",
      "  _warn_prf(average, modifier, msg_start, len(result))\n",
      "/Users/howardluo/opt/anaconda3/lib/python3.9/site-packages/sklearn/metrics/_classification.py:1248: UndefinedMetricWarning: Precision and F-score are ill-defined and being set to 0.0 in labels with no predicted samples. Use `zero_division` parameter to control this behavior.\n",
      "  _warn_prf(average, modifier, msg_start, len(result))\n",
      "/Users/howardluo/opt/anaconda3/lib/python3.9/site-packages/sklearn/metrics/_classification.py:1248: UndefinedMetricWarning: Recall and F-score are ill-defined and being set to 0.0 in labels with no true samples. Use `zero_division` parameter to control this behavior.\n",
      "  _warn_prf(average, modifier, msg_start, len(result))\n",
      "/Users/howardluo/opt/anaconda3/lib/python3.9/site-packages/sklearn/metrics/_classification.py:1248: UndefinedMetricWarning: Precision and F-score are ill-defined and being set to 0.0 in labels with no predicted samples. Use `zero_division` parameter to control this behavior.\n",
      "  _warn_prf(average, modifier, msg_start, len(result))\n",
      "/Users/howardluo/opt/anaconda3/lib/python3.9/site-packages/sklearn/metrics/_classification.py:1248: UndefinedMetricWarning: Recall and F-score are ill-defined and being set to 0.0 in labels with no true samples. Use `zero_division` parameter to control this behavior.\n",
      "  _warn_prf(average, modifier, msg_start, len(result))\n"
     ]
    }
   ],
   "source": [
    "print(classification_report(test_y,y_pred))"
   ]
  },
  {
   "cell_type": "code",
   "execution_count": 175,
   "id": "5afc24dd",
   "metadata": {},
   "outputs": [
    {
     "data": {
      "text/plain": [
       "22.0979381443299"
      ]
     },
     "execution_count": 175,
     "metadata": {},
     "output_type": "execute_result"
    }
   ],
   "source": [
    "mean_squared_error(test_y,y_pred)"
   ]
  },
  {
   "attachments": {},
   "cell_type": "markdown",
   "id": "d759463a",
   "metadata": {},
   "source": [
    "# Train and test on fashion mnist dataset"
   ]
  },
  {
   "cell_type": "code",
   "execution_count": 176,
   "id": "306f4aa8",
   "metadata": {},
   "outputs": [],
   "source": [
    "#split the data into train and test\n",
    "train_x,test_x,train_y,test_y=train_test_split(x_fm, y_fm, test_size = 0.9, random_state = 99,stratify=y_fm)"
   ]
  },
  {
   "cell_type": "code",
   "execution_count": 177,
   "id": "124e3564",
   "metadata": {},
   "outputs": [
    {
     "name": "stdout",
     "output_type": "stream",
     "text": [
      "Accuracy: 0.7269047619047619\n"
     ]
    }
   ],
   "source": [
    "# Create and train the decision tree model\n",
    "model = DecisionTreeClassifier(criterion='gini', max_depth=None, random_state=0)\n",
    "model.fit(train_x, train_y)\n",
    "\n",
    "# Predict the labels for the test set\n",
    "y_pred = model.predict(test_x)\n",
    "\n",
    "# Calculate accuracy\n",
    "accuracy = accuracy_score(test_y, y_pred)\n",
    "print('Accuracy:', accuracy)"
   ]
  },
  {
   "cell_type": "code",
   "execution_count": null,
   "id": "742743e8",
   "metadata": {},
   "outputs": [],
   "source": [
    "#Use cross validation to find the best value of c\n",
    "C = [np.exp(i) for i in np.linspace(-6,6,10)]  \n",
    "accuracy_list=[]\n",
    "for c in C:\n",
    "    model = OneVsOneClassifier(SVC(C=c,kernel='rbf',gamma='scale'))\n",
    "    clf = model.fit(train_x,train_y)\n",
    "    y_pred = clf.predict(test_x)\n",
    "    accuracy=accuracy_score(y_pred,test_y)\n",
    "    accuracy_list.append(accuracy)\n",
    "    print('C =',c,'Accuracy :',accuracy)\n",
    "\n",
    "C=[np.log(y) for y in C] # make the plot look better\n",
    "plt.plot(C,accuracy_list,c = 'b')\n",
    "plt.ylabel('Accuracy')\n",
    "plt.xlabel('log(C)')\n",
    "plt.title('Accuracy against value of C')\n",
    "plt.show()"
   ]
  },
  {
   "cell_type": "code",
   "execution_count": 66,
   "id": "8e820eff",
   "metadata": {},
   "outputs": [
    {
     "data": {
      "text/plain": [
       "Text(33.0, 0.5, 'Actual')"
      ]
     },
     "execution_count": 66,
     "metadata": {},
     "output_type": "execute_result"
    },
    {
     "data": {
      "image/png": "[encoded data removed]",
      "text/plain": [
       "<Figure size 432x288 with 2 Axes>"
      ]
     },
     "metadata": {
      "needs_background": "light"
     },
     "output_type": "display_data"
    }
   ],
   "source": [
    "matrix = confusion_matrix(test_y,y_pred)\n",
    "sns.heatmap(matrix,cmap=\"Greens\", annot=True, fmt='g')\n",
    "plt.title(\"Confusion Matrix\")\n",
    "plt.xlabel('Predicted')\n",
    "plt.ylabel('Actual')"
   ]
  },
  {
   "cell_type": "code",
   "execution_count": 67,
   "id": "b3fcd643",
   "metadata": {},
   "outputs": [
    {
     "name": "stdout",
     "output_type": "stream",
     "text": [
      "              precision    recall  f1-score   support\n",
      "\n",
      "           0       0.72      0.73      0.72      5400\n",
      "           1       0.91      0.93      0.92      5400\n",
      "           2       0.62      0.62      0.62      5400\n",
      "           3       0.78      0.74      0.76      5400\n",
      "           4       0.61      0.59      0.60      5400\n",
      "           5       0.47      0.49      0.48      5400\n",
      "           6       0.99      1.00      0.99      5400\n",
      "\n",
      "    accuracy                           0.73     37800\n",
      "   macro avg       0.73      0.73      0.73     37800\n",
      "weighted avg       0.73      0.73      0.73     37800\n",
      "\n"
     ]
    }
   ],
   "source": [
    "print(classification_report(test_y,y_pred))"
   ]
  },
  {
   "cell_type": "code",
   "execution_count": 68,
   "id": "01dd331b",
   "metadata": {},
   "outputs": [
    {
     "data": {
      "text/plain": [
       "2.3373809523809523"
      ]
     },
     "execution_count": 68,
     "metadata": {},
     "output_type": "execute_result"
    }
   ],
   "source": [
    "mean_squared_error(test_y,y_pred)"
   ]
  },
  {
   "attachments": {},
   "cell_type": "markdown",
   "id": "8a0d35b4",
   "metadata": {},
   "source": [
    "# Combine the two datasets together"
   ]
  },
  {
   "cell_type": "code",
   "execution_count": 127,
   "id": "12f74def",
   "metadata": {},
   "outputs": [],
   "source": [
    "\n",
    "y_combine = np.hstack((y_fm[:3880],Merge_data_label))\n",
    "x_combine = np.vstack((x_fm[:3880],Merge_data))"
   ]
  },
  {
   "cell_type": "code",
   "execution_count": 128,
   "id": "5b8df2e6",
   "metadata": {},
   "outputs": [],
   "source": [
    "#split the data into train and test\n",
    "train_x,test_x,train_y,test_y=train_test_split(x_combine, y_combine, test_size = 0.05, random_state = 99)"
   ]
  },
  {
   "cell_type": "code",
   "execution_count": 130,
   "id": "845fbb39",
   "metadata": {},
   "outputs": [
    {
     "name": "stdout",
     "output_type": "stream",
     "text": [
      "Accuracy: 0.9072164948453608\n"
     ]
    }
   ],
   "source": [
    "model = RandomForestClassifier(n_estimators=100,criterion=\"entropy\", random_state=0)\n",
    "model.fit(train_x, train_y)\n",
    "# Predict the labels for the test set\n",
    "y_pred = model.predict(test_x)\n",
    "# Calculate accuracy\n",
    "accuracy = accuracy_score(test_y, y_pred)\n",
    "print('Accuracy:', accuracy)"
   ]
  },
  {
   "cell_type": "code",
   "execution_count": 132,
   "id": "ab34d6b8",
   "metadata": {},
   "outputs": [
    {
     "name": "stdout",
     "output_type": "stream",
     "text": [
      "Accuracy: 0.9089347079037801\n"
     ]
    }
   ],
   "source": [
    "model = RandomForestClassifier(n_estimators=100,criterion=\"gini\", random_state=0)\n",
    "model.fit(train_x, train_y)\n",
    "# Predict the labels for the test set\n",
    "y_pred = model.predict(test_x)\n",
    "# Calculate accuracy\n",
    "accuracy = accuracy_score(test_y, y_pred)\n",
    "print('Accuracy:', accuracy)"
   ]
  },
  {
   "cell_type": "code",
   "execution_count": 133,
   "id": "d85efdf0",
   "metadata": {},
   "outputs": [
    {
     "data": {
      "text/plain": [
       "Text(33.0, 0.5, 'Actual')"
      ]
     },
     "execution_count": 133,
     "metadata": {},
     "output_type": "execute_result"
    },
    {
     "data": {
      "image/png": "[encoded data removed]",
      "text/plain": [
       "<Figure size 432x288 with 2 Axes>"
      ]
     },
     "metadata": {
      "needs_background": "light"
     },
     "output_type": "display_data"
    }
   ],
   "source": [
    "matrix = confusion_matrix(test_y,y_pred)\n",
    "sns.heatmap(matrix,cmap=\"Greens\", annot=True, fmt='g')\n",
    "plt.title(\"Confusion Matrix\")\n",
    "plt.xlabel('Predicted')\n",
    "plt.ylabel('Actual')"
   ]
  },
  {
   "cell_type": "code",
   "execution_count": 134,
   "id": "6cff5c19",
   "metadata": {},
   "outputs": [
    {
     "name": "stdout",
     "output_type": "stream",
     "text": [
      "              precision    recall  f1-score   support\n",
      "\n",
      "           0       0.84      0.75      0.79        28\n",
      "           1       1.00      1.00      1.00        24\n",
      "           2       0.74      0.62      0.68        37\n",
      "           3       0.81      0.79      0.80        33\n",
      "           4       0.62      0.79      0.69        33\n",
      "           5       0.67      0.69      0.68        26\n",
      "           6       1.00      1.00      1.00        24\n",
      "       Dress       1.00      0.94      0.97        32\n",
      "  Longsleeve       0.94      0.97      0.95        63\n",
      "     Outwear       1.00      1.00      1.00        30\n",
      "       Pants       0.97      1.00      0.98        65\n",
      "       Shirt       1.00      0.90      0.95        39\n",
      "       Shoes       0.96      0.96      0.96        51\n",
      "     T-Shirt       0.98      1.00      0.99        97\n",
      "\n",
      "    accuracy                           0.91       582\n",
      "   macro avg       0.89      0.89      0.89       582\n",
      "weighted avg       0.91      0.91      0.91       582\n",
      "\n"
     ]
    }
   ],
   "source": [
    "print(classification_report(test_y,y_pred))"
   ]
  },
  {
   "cell_type": "code",
   "execution_count": 74,
   "id": "30690109",
   "metadata": {},
   "outputs": [
    {
     "data": {
      "text/plain": [
       "0.7302405498281787"
      ]
     },
     "execution_count": 74,
     "metadata": {},
     "output_type": "execute_result"
    }
   ],
   "source": [
    "mean_squared_error(test_y,y_pred)"
   ]
  },
  {
   "cell_type": "code",
   "execution_count": null,
   "id": "71defca0",
   "metadata": {},
   "outputs": [],
   "source": []
  }
 ],
 "metadata": {
  "kernelspec": {
   "display_name": "Python 3 (ipykernel)",
   "language": "python",
   "name": "python3"
  },
  "language_info": {
   "codemirror_mode": {
    "name": "ipython",
    "version": 3
   },
   "file_extension": ".py",
   "mimetype": "text/x-python",
   "name": "python",
   "nbconvert_exporter": "python",
   "pygments_lexer": "ipython3",
   "version": "3.9.7"
  }
 },
 "nbformat": 4,
 "nbformat_minor": 5
}
